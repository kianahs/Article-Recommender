{
 "cells": [
  {
   "cell_type": "code",
   "execution_count": 1,
   "id": "7d502238",
   "metadata": {},
   "outputs": [],
   "source": [
    "import json\n",
    "from scholarly import scholarly, ProxyGenerator"
   ]
  },
  {
   "cell_type": "code",
   "execution_count": 2,
   "id": "8fe42dfe",
   "metadata": {},
   "outputs": [],
   "source": [
    "headers = {'Cookie' : 'NID=208=TM4uJQE5PczRxonmX51q9FmpAvEaUuoaOp-fBiChEO8--YA9iVq_23FbrHefU-RmZiTMwrOtKW7e-tUL05J-V5xdO0UMl8cUoWBAajaBi-hsiwrqT_sOFi6_Owv2_3q1MCm9QtDNWTtCdD_ng-V5oF9QbEv3v0-C2kSQj4CBDAWTSZNGBOGVKGfqqlWO7zhmDT2CtYIStrI-jKTw5yrZyWL6ZeBlF2LKjV4LtNdXgVg2nVk3RSIpgoQ_Ad32fJGznHPuQni4sf1uBqFB9W9m9w',\n",
    "            'User-Agent' : 'Mozilla/5.0 (Macintosh; Intel Mac OS X 10_14_0) AppleWebKit/537.36 (KHTML, like Gecko) Chrome/79.0.3945.130 Safari/537.36'}\n",
    "proxies = {'http': 'http://tor-privoxy:8118'}"
   ]
  },
  {
   "cell_type": "code",
   "execution_count": 3,
   "id": "8a63f053",
   "metadata": {},
   "outputs": [
    {
     "name": "stderr",
     "output_type": "stream",
     "text": [
      "Exception while testing proxy: HTTPConnectionPool(host='tor-privoxy', port=8118): Max retries exceeded with url: http://httpbin.org/ip (Caused by ProxyError('Cannot connect to proxy.', NewConnectionError('<urllib3.connection.HTTPConnection object at 0x00000289E99D7970>: Failed to establish a new connection: [Errno 11001] getaddrinfo failed')))\n",
      "Proxy http://tor-privoxy:8118 does not seem to work.\n"
     ]
    }
   ],
   "source": [
    "pg = ProxyGenerator()\n",
    "success = pg.SingleProxy(http = 'http://tor-privoxy:8118')\n",
    "scholarly.use_proxy(pg)"
   ]
  },
  {
   "cell_type": "code",
   "execution_count": 4,
   "id": "eaa78bc8",
   "metadata": {},
   "outputs": [],
   "source": [
    "def get_authors_names(path):\n",
    "    # opening the file in read mode\n",
    "    my_file = open(path, \"r\")\n",
    "\n",
    "    # reading the file\n",
    "    data = my_file.read()\n",
    "\n",
    "    # replacing end splitting the text \n",
    "    # when newline ('\\n') is seen.\n",
    "    data_into_list = data.split(\"\\n\")\n",
    "#     print(data_into_list)\n",
    "    my_file.close()\n",
    "    return data_into_list\n"
   ]
  },
  {
   "cell_type": "code",
   "execution_count": 5,
   "id": "85ae8e97",
   "metadata": {},
   "outputs": [
    {
     "name": "stdout",
     "output_type": "stream",
     "text": [
      "['Reza Safabakhsh', 'Mehdi Rasti', 'Saeedeh Momtazi', 'Mohammad Mehdi Ebadzadeh', 'Mohammad rahmati']\n"
     ]
    }
   ],
   "source": [
    "authors = get_authors_names(\"names.txt\")\n",
    "print(authors)"
   ]
  },
  {
   "cell_type": "code",
   "execution_count": 6,
   "id": "39ec2a07",
   "metadata": {},
   "outputs": [],
   "source": [
    "def get_authors_data(authors):\n",
    "    \n",
    "  result = []\n",
    "  for a in authors:\n",
    "  \n",
    "    search_query = scholarly.search_author(a)\n",
    "    author = scholarly.fill(next(search_query))\n",
    "  \n",
    "    result.append(scholarly.fill(author, sections=[]))\n",
    "    extract_scholar_idis(result)\n",
    "  with open('authors_data.JSON', 'w') as file:\n",
    "      file.write(json.dumps(result)) # use `json.loads` to do the reverse"
   ]
  },
  {
   "cell_type": "code",
   "execution_count": 7,
   "id": "b1b8b8ec",
   "metadata": {},
   "outputs": [],
   "source": [
    "def extract_scholar_idis(result):\n",
    "    \n",
    "    scholar_IDs = []\n",
    "    \n",
    "    for item in result:\n",
    "        scholar_IDs.append(item['scholar_id'])\n",
    "    \n",
    "    with open('authors_scholar_IDs.JSON', 'w') as file:\n",
    "      file.write(json.dumps(scholar_IDs)) # use `json.loads` to do the reverse"
   ]
  },
  {
   "cell_type": "code",
   "execution_count": 14,
   "id": "7283e35b",
   "metadata": {},
   "outputs": [],
   "source": [
    "def enhance_result():\n",
    "  f = open('authors_data.JSON')\n",
    " \n",
    "  result = json.load(f)\n",
    "  f.close()\n",
    "  print(\"enhancing result\")\n",
    "  for a in result:\n",
    "    # print(a)\n",
    "    for pub in a['publications']:\n",
    "      print(pub['bib']['title'])\n",
    "      try:\n",
    "        search_query = scholarly.search_pubs(pub['bib']['title'])\n",
    "        pub['bib'] = next(search_query)\n",
    "      except Exception as e:\n",
    "        print(e)\n",
    "\n",
    "  with open('file2.JSON', 'w') as file:\n",
    "      file.write(json.dumps(result)) # use `json.loads` to do the reverse"
   ]
  },
  {
   "cell_type": "code",
   "execution_count": 9,
   "id": "4fa39100",
   "metadata": {},
   "outputs": [
    {
     "name": "stderr",
     "output_type": "stream",
     "text": [
      "ftpProxy must not contain a scheme: http://185.76.9.87:3128\n",
      "Fetching only the top 20 coauthors\n",
      "ftpProxy must not contain a scheme: http://185.76.9.87:3128\n",
      "Fetching only the top 20 coauthors\n"
     ]
    }
   ],
   "source": [
    "# write authors full data into authors_data\n",
    "get_authors_data(authors)"
   ]
  },
  {
   "cell_type": "code",
   "execution_count": null,
   "id": "e8b6b276",
   "metadata": {},
   "outputs": [],
   "source": []
  },
  {
   "cell_type": "code",
   "execution_count": null,
   "id": "d0074748",
   "metadata": {},
   "outputs": [],
   "source": []
  }
 ],
 "metadata": {
  "kernelspec": {
   "display_name": "Python 3",
   "language": "python",
   "name": "python3"
  },
  "language_info": {
   "codemirror_mode": {
    "name": "ipython",
    "version": 3
   },
   "file_extension": ".py",
   "mimetype": "text/x-python",
   "name": "python",
   "nbconvert_exporter": "python",
   "pygments_lexer": "ipython3",
   "version": "3.9.1"
  }
 },
 "nbformat": 4,
 "nbformat_minor": 5
}
