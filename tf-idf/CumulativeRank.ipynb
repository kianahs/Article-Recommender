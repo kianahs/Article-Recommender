{
 "cells": [
  {
   "cell_type": "code",
   "execution_count": 6,
   "id": "7861dc94",
   "metadata": {},
   "outputs": [],
   "source": [
    "class CumulativeRankElement:\n",
    "    \n",
    "    \n",
    "    def __init__(self):\n",
    "        \n",
    "        self.journals_scores = {}\n",
    "        \n",
    "        \n",
    "    def get_journals_scores(self):\n",
    "        return self.journals_scores\n",
    "    \n",
    "    def add_journals(self, journals ,max_score):\n",
    "        \n",
    "        for journal in journals:\n",
    "            \n",
    "            if journal not in self.journals_scores:\n",
    "                \n",
    "                 self.journals_scores[journal] = max_score\n",
    "            else:\n",
    "                \n",
    "                 self.journals_scores[journal] += max_score\n",
    "            \n",
    "            max_score -= 1\n",
    "        \n",
    "        \n",
    "        \n",
    "   "
   ]
  },
  {
   "cell_type": "code",
   "execution_count": null,
   "id": "99328248",
   "metadata": {},
   "outputs": [],
   "source": []
  }
 ],
 "metadata": {
  "kernelspec": {
   "display_name": "Python 3",
   "language": "python",
   "name": "python3"
  },
  "language_info": {
   "codemirror_mode": {
    "name": "ipython",
    "version": 3
   },
   "file_extension": ".py",
   "mimetype": "text/x-python",
   "name": "python",
   "nbconvert_exporter": "python",
   "pygments_lexer": "ipython3",
   "version": "3.9.1"
  }
 },
 "nbformat": 4,
 "nbformat_minor": 5
}
