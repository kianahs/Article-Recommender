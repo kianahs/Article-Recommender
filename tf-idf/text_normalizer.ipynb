{
 "cells": [
  {
   "cell_type": "code",
   "execution_count": 1,
   "id": "7aa15e91",
   "metadata": {},
   "outputs": [
    {
     "name": "stdout",
     "output_type": "stream",
     "text": [
      "[nltk_data] Downloading package stopwords to\n",
      "[nltk_data]     C:\\Users\\kiana\\AppData\\Roaming\\nltk_data...\n",
      "[nltk_data]   Package stopwords is already up-to-date!\n"
     ]
    },
    {
     "data": {
      "text/plain": [
       "True"
      ]
     },
     "execution_count": 1,
     "metadata": {},
     "output_type": "execute_result"
    }
   ],
   "source": [
    "# import regex\n",
    "import re\n",
    "\n",
    "# download stpwords\n",
    "import nltk\n",
    "nltk.download('stopwords')"
   ]
  },
  {
   "cell_type": "code",
   "execution_count": 2,
   "id": "128040cc",
   "metadata": {},
   "outputs": [],
   "source": [
    "# import nltk for stopwords\n",
    "from nltk.corpus import stopwords\n",
    "stop_words = set(stopwords.words('english'))"
   ]
  },
  {
   "cell_type": "code",
   "execution_count": 3,
   "id": "a3be6c46",
   "metadata": {},
   "outputs": [],
   "source": [
    "# input string\n",
    "def normalize_input_string(string):\n",
    "    \n",
    "    # convert to lower case\n",
    "    lower_string = string.lower()\n",
    "\n",
    "    # remove numbers\n",
    "    no_number_string = re.sub(r'\\d+','',lower_string)\n",
    "\n",
    "    # remove all punctuation except words and space\n",
    "    no_punc_string = re.sub(r'[^\\w\\s]','', no_number_string)\n",
    "\n",
    "    # remove white spaces\n",
    "    no_wspace_string = no_punc_string.strip()\n",
    "    no_wspace_string\n",
    "\n",
    "    # convert string to list of words\n",
    "    lst_string = [no_wspace_string][0].split()\n",
    "#     print(lst_string)\n",
    "\n",
    "    # remove stopwords\n",
    "    no_stpwords_string=\"\"\n",
    "    for i in lst_string:\n",
    "        if not i in stop_words:\n",
    "            no_stpwords_string += i+' '\n",
    "\n",
    "    # removing last space\n",
    "    no_stpwords_string = no_stpwords_string[:-1]\n",
    "\n",
    "    # output\n",
    "    return(no_stpwords_string.split())"
   ]
  },
  {
   "cell_type": "code",
   "execution_count": 4,
   "id": "a3be649b",
   "metadata": {},
   "outputs": [],
   "source": [
    "# input string\n",
    "def normalize_input_list(list_of_words):\n",
    "    \n",
    "    string = \"\"\n",
    "    for word in list_of_words:\n",
    "        string += word + \" \"\n",
    "        \n",
    "    # convert to lower case\n",
    "    lower_string = string.lower()\n",
    "\n",
    "    # remove numbers\n",
    "    no_number_string = re.sub(r'\\d+','',lower_string)\n",
    "\n",
    "    # remove all punctuation except words and space\n",
    "    no_punc_string = re.sub(r'[^\\w\\s]','', no_number_string)\n",
    "\n",
    "    # remove white spaces\n",
    "    no_wspace_string = no_punc_string.strip()\n",
    "    no_wspace_string\n",
    "\n",
    "    # convert string to list of words\n",
    "    lst_string = [no_wspace_string][0].split()\n",
    "#     print(lst_string)\n",
    "\n",
    "    # remove stopwords\n",
    "    no_stpwords_string=\"\"\n",
    "    for i in lst_string:\n",
    "        if not i in stop_words:\n",
    "            no_stpwords_string += i+' '\n",
    "\n",
    "    # removing last space\n",
    "    no_stpwords_string = no_stpwords_string[:-1]\n",
    "\n",
    "    # output\n",
    "    return(no_stpwords_string.split())"
   ]
  },
  {
   "cell_type": "code",
   "execution_count": null,
   "id": "1c5c4384",
   "metadata": {},
   "outputs": [],
   "source": []
  }
 ],
 "metadata": {
  "kernelspec": {
   "display_name": "Python 3",
   "language": "python",
   "name": "python3"
  },
  "language_info": {
   "codemirror_mode": {
    "name": "ipython",
    "version": 3
   },
   "file_extension": ".py",
   "mimetype": "text/x-python",
   "name": "python",
   "nbconvert_exporter": "python",
   "pygments_lexer": "ipython3",
   "version": "3.9.1"
  }
 },
 "nbformat": 4,
 "nbformat_minor": 5
}
